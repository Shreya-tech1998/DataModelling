{
 "cells": [
  {
   "cell_type": "markdown",
   "id": "66d01c8a-f0cd-42af-aff9-8ba0bbd3c47e",
   "metadata": {
    "slideshow": {
     "slide_type": "slide"
    },
    "tags": []
   },
   "source": [
    "# Predictive Modeling Example\n",
    "\n",
    "**Week04, Polynomial Example Model Fitting**\n",
    "\n",
    "ISM6136\n",
    "\n",
    "&copy; 2023 Dr. Tim Smith\n",
    "\n",
    "\n",
    "<a target=\"_blank\" href=\"https://colab.research.google.com/github/prof-tcsmith/dm-f23/blob/main/W04/W04.04_model3-polynomial.ipynb#offline=1\">\n",
    "  <img src=\"https://colab.research.google.com/assets/colab-badge.svg\" alt=\"Open In Colab\"/>\n",
    "</a>\n",
    "\n",
    "---\n"
   ]
  },
  {
   "cell_type": "markdown",
   "id": "9b9796cd-8b03-4aa7-bf6e-fee2340a189e",
   "metadata": {
    "slideshow": {
     "slide_type": "fragment"
    },
    "tags": []
   },
   "source": [
    "## Step 1: Import a number of libraries that we expect to use"
   ]
  },
  {
   "cell_type": "code",
   "execution_count": 1,
   "id": "1a383805",
   "metadata": {},
   "outputs": [],
   "source": [
    "# if running on colab, you may need to uncomment the following lines\n",
    "# if you get an error saying that the module is not found\n",
    "#!pip install matplotlib\n",
    "#!pip install numpy\n",
    "#!pip install pandas\n",
    "#!pip install sklearn\n",
    "#!pip install ipympl"
   ]
  },
  {
   "cell_type": "code",
   "execution_count": 13,
   "id": "cca96620-674f-43be-9633-3546127c263b",
   "metadata": {
    "slideshow": {
     "slide_type": "fragment"
    },
    "tags": []
   },
   "outputs": [],
   "source": [
    "import matplotlib.pyplot as plt\n",
    "import numpy as np\n",
    "import pandas as pd\n",
    "from sklearn.linear_model import LinearRegression\n",
    "from sklearn.preprocessing import PolynomialFeatures\n",
    "from sklearn.metrics import mean_squared_error\n",
    "from sklearn.compose import ColumnTransformer\n",
    "from sklearn.preprocessing import StandardScaler, MinMaxScaler\n",
    "\n",
    "np.random.seed(1) # set this to ensure the results are repeatable. \n",
    "\n",
    "# this is a notebook 'MAGIC' that will allow for creation of inline plots (this is the defaul, so often not necessary)\n",
    "%matplotlib inline"
   ]
  },
  {
   "cell_type": "markdown",
   "id": "16a73fa6",
   "metadata": {},
   "source": [
    "%matplotlib widget "
   ]
  },
  {
   "cell_type": "markdown",
   "id": "9a059c01-4097-4b16-8319-d62f7d3c9b0d",
   "metadata": {},
   "source": [
    "## Step 2: Load the given data that we will model"
   ]
  },
  {
   "cell_type": "code",
   "execution_count": 4,
   "id": "7815e222-9aae-4b39-999e-689dcea5aeb8",
   "metadata": {},
   "outputs": [
    {
     "data": {
      "text/html": [
       "<div>\n",
       "<style scoped>\n",
       "    .dataframe tbody tr th:only-of-type {\n",
       "        vertical-align: middle;\n",
       "    }\n",
       "\n",
       "    .dataframe tbody tr th {\n",
       "        vertical-align: top;\n",
       "    }\n",
       "\n",
       "    .dataframe thead th {\n",
       "        text-align: right;\n",
       "    }\n",
       "</style>\n",
       "<table border=\"1\" class=\"dataframe\">\n",
       "  <thead>\n",
       "    <tr style=\"text-align: right;\">\n",
       "      <th></th>\n",
       "      <th>X</th>\n",
       "      <th>y</th>\n",
       "    </tr>\n",
       "  </thead>\n",
       "  <tbody>\n",
       "    <tr>\n",
       "      <th>0</th>\n",
       "      <td>4.90</td>\n",
       "      <td>46.45500</td>\n",
       "    </tr>\n",
       "    <tr>\n",
       "      <th>1</th>\n",
       "      <td>2.39</td>\n",
       "      <td>38.71315</td>\n",
       "    </tr>\n",
       "    <tr>\n",
       "      <th>2</th>\n",
       "      <td>-4.48</td>\n",
       "      <td>114.04560</td>\n",
       "    </tr>\n",
       "    <tr>\n",
       "      <th>3</th>\n",
       "      <td>-6.11</td>\n",
       "      <td>178.89315</td>\n",
       "    </tr>\n",
       "    <tr>\n",
       "      <th>4</th>\n",
       "      <td>-20.30</td>\n",
       "      <td>600.91500</td>\n",
       "    </tr>\n",
       "    <tr>\n",
       "      <th>5</th>\n",
       "      <td>6.08</td>\n",
       "      <td>40.95960</td>\n",
       "    </tr>\n",
       "    <tr>\n",
       "      <th>6</th>\n",
       "      <td>-3.54</td>\n",
       "      <td>76.57740</td>\n",
       "    </tr>\n",
       "    <tr>\n",
       "      <th>7</th>\n",
       "      <td>1.53</td>\n",
       "      <td>-69.96365</td>\n",
       "    </tr>\n",
       "    <tr>\n",
       "      <th>8</th>\n",
       "      <td>5.01</td>\n",
       "      <td>77.56515</td>\n",
       "    </tr>\n",
       "    <tr>\n",
       "      <th>9</th>\n",
       "      <td>-7.86</td>\n",
       "      <td>245.15940</td>\n",
       "    </tr>\n",
       "  </tbody>\n",
       "</table>\n",
       "</div>"
      ],
      "text/plain": [
       "       X          y\n",
       "0   4.90   46.45500\n",
       "1   2.39   38.71315\n",
       "2  -4.48  114.04560\n",
       "3  -6.11  178.89315\n",
       "4 -20.30  600.91500\n",
       "5   6.08   40.95960\n",
       "6  -3.54   76.57740\n",
       "7   1.53  -69.96365\n",
       "8   5.01   77.56515\n",
       "9  -7.86  245.15940"
      ]
     },
     "execution_count": 4,
     "metadata": {},
     "output_type": "execute_result"
    }
   ],
   "source": [
    "df = pd.read_csv('./c02_dataset_4.csv')\n",
    "\n",
    "df.head(10)"
   ]
  },
  {
   "cell_type": "markdown",
   "id": "864fae09-1405-4f85-be61-884f917702e3",
   "metadata": {},
   "source": [
    "Seperate out the input m(X) and the target (y)"
   ]
  },
  {
   "cell_type": "code",
   "execution_count": 67,
   "id": "d684c6ea-96f6-49db-9f35-c4588d83033f",
   "metadata": {
    "slideshow": {
     "slide_type": "subslide"
    },
    "tags": []
   },
   "outputs": [],
   "source": [
    "X = df[['X']]\n",
    "y = df[['y']]"
   ]
  },
  {
   "cell_type": "markdown",
   "id": "4de05e07-a9a9-4a07-8031-f7212d67210a",
   "metadata": {},
   "source": [
    "## Step 3: Explore the given data\n",
    "\n",
    "Explore the data using a scatterplot."
   ]
  },
  {
   "cell_type": "code",
   "execution_count": 68,
   "id": "02358dd7-6e42-4529-9454-bc7810fb514b",
   "metadata": {},
   "outputs": [
    {
     "data": {
      "image/png": "[encoded data removed]",
      "text/plain": [
       "<Figure size 640x480 with 1 Axes>"
      ]
     },
     "metadata": {},
     "output_type": "display_data"
    }
   ],
   "source": [
    "fig = plt.figure()\n",
    "ax = fig.add_subplot()\n",
    "\n",
    "ax.scatter(X, y, color='red')\n",
    "\n",
    "ax.set_xlabel('X')\n",
    "ax.set_ylabel('y')\n",
    "ax.set_title(\"Polynomial Regression Test\")\n",
    "plt.tight_layout()\n",
    "plt.show()"
   ]
  },
  {
   "cell_type": "markdown",
   "id": "88ca02d2",
   "metadata": {},
   "source": [
    "# Using the train-test-split model on this dataset\n",
    "\n",
    "\n"
   ]
  },
  {
   "cell_type": "markdown",
   "id": "11b9f519",
   "metadata": {},
   "source": [
    "# # Step-1 Explore the number of rows and columns in the dataset\n"
   ]
  },
  {
   "cell_type": "code",
   "execution_count": 30,
   "id": "64a06ce3",
   "metadata": {},
   "outputs": [
    {
     "data": {
      "text/plain": [
       "(1000, 2)"
      ]
     },
     "execution_count": 30,
     "metadata": {},
     "output_type": "execute_result"
    }
   ],
   "source": [
    "df.shape"
   ]
  },
  {
   "cell_type": "markdown",
   "id": "57675a9a",
   "metadata": {},
   "source": [
    "# # Step-2 Identify missing data "
   ]
  },
  {
   "cell_type": "code",
   "execution_count": 31,
   "id": "67576d98",
   "metadata": {},
   "outputs": [
    {
     "data": {
      "text/plain": [
       "X    0\n",
       "y    0\n",
       "dtype: int64"
      ]
     },
     "execution_count": 31,
     "metadata": {},
     "output_type": "execute_result"
    }
   ],
   "source": [
    "df.isna().sum()\n",
    "# There are no missing values in this data set"
   ]
  },
  {
   "cell_type": "markdown",
   "id": "d35d1021",
   "metadata": {},
   "source": [
    "# # Step-3 Partition data into training and validation sets "
   ]
  },
  {
   "cell_type": "code",
   "execution_count": 32,
   "id": "0c84ff4d",
   "metadata": {},
   "outputs": [],
   "source": [
    "'''Split the dataset into training (70%) and validation (30%) sets.\n",
    "Randomly sample 70% of the dataset into a new data frame train_data. The remaining 30% serve as validation\n",
    "'''\n",
    "train_data= df.sample(frac=0.7, random_state=1)\n",
    "valid_data = df.drop(train_data.index)"
   ]
  },
  {
   "cell_type": "markdown",
   "id": "065c98fe",
   "metadata": {},
   "source": [
    "# # Step-4 Developing a Predictive Model  Using a Linear Model"
   ]
  },
  {
   "cell_type": "code",
   "execution_count": 33,
   "id": "916cfaba",
   "metadata": {},
   "outputs": [
    {
     "data": {
      "text/html": [
       "<div>\n",
       "<style scoped>\n",
       "    .dataframe tbody tr th:only-of-type {\n",
       "        vertical-align: middle;\n",
       "    }\n",
       "\n",
       "    .dataframe tbody tr th {\n",
       "        vertical-align: top;\n",
       "    }\n",
       "\n",
       "    .dataframe thead th {\n",
       "        text-align: right;\n",
       "    }\n",
       "</style>\n",
       "<table border=\"1\" class=\"dataframe\">\n",
       "  <thead>\n",
       "    <tr style=\"text-align: right;\">\n",
       "      <th></th>\n",
       "      <th>y</th>\n",
       "      <th>PREDICTED</th>\n",
       "    </tr>\n",
       "  </thead>\n",
       "  <tbody>\n",
       "    <tr>\n",
       "      <th>7</th>\n",
       "      <td>-0.913516</td>\n",
       "      <td>0.034030</td>\n",
       "    </tr>\n",
       "    <tr>\n",
       "      <th>10</th>\n",
       "      <td>0.877842</td>\n",
       "      <td>0.239496</td>\n",
       "    </tr>\n",
       "    <tr>\n",
       "      <th>15</th>\n",
       "      <td>-1.300382</td>\n",
       "      <td>-0.067276</td>\n",
       "    </tr>\n",
       "    <tr>\n",
       "      <th>20</th>\n",
       "      <td>0.569270</td>\n",
       "      <td>-0.366200</td>\n",
       "    </tr>\n",
       "    <tr>\n",
       "      <th>21</th>\n",
       "      <td>0.068527</td>\n",
       "      <td>-0.191412</td>\n",
       "    </tr>\n",
       "  </tbody>\n",
       "</table>\n",
       "</div>"
      ],
      "text/plain": [
       "           y  PREDICTED\n",
       "7  -0.913516   0.034030\n",
       "10  0.877842   0.239496\n",
       "15 -1.300382  -0.067276\n",
       "20  0.569270  -0.366200\n",
       "21  0.068527  -0.191412"
      ]
     },
     "execution_count": 33,
     "metadata": {},
     "output_type": "execute_result"
    }
   ],
   "source": [
    "# Normalize the data \n",
    "scaler = StandardScaler()\n",
    "train_data = pd.DataFrame(scaler.fit_transform(train_data),\n",
    "                       index=train_data.index, columns=train_data.columns)\n",
    "valid_data = pd.DataFrame(scaler.transform(valid_data),\n",
    "                       index=valid_data.index, columns=valid_data.columns)\n",
    "\n",
    "# Using a linear model to try to fit the data\n",
    "\n",
    "model = LinearRegression()\n",
    "Input = ['X']\n",
    "target = ['y']\n",
    "predicted = ['PREDICTED']\n",
    "\n",
    "X_train = train_data[Input]\n",
    "y_train = train_data[target]\n",
    "\n",
    "\n",
    "X_valid = valid_data[Input]\n",
    "y_valid = valid_data[target]\n",
    "\n",
    "## Train the model on the training data \n",
    "model.fit(X_train, y_train)\n",
    "\n",
    "## Use the model to predict the target values using the input values from the validation dataset\n",
    "y_valid[predicted] = model.predict(X_valid)\n",
    "y_valid.head()"
   ]
  },
  {
   "cell_type": "markdown",
   "id": "ab2f34d1",
   "metadata": {},
   "source": [
    "# # Step-5 Calculating the mean square error of this linear model"
   ]
  },
  {
   "cell_type": "code",
   "execution_count": 34,
   "id": "7d966341",
   "metadata": {},
   "outputs": [
    {
     "data": {
      "text/plain": [
       "0.9536615245521369"
      ]
     },
     "execution_count": 34,
     "metadata": {},
     "output_type": "execute_result"
    }
   ],
   "source": [
    "\n",
    "mean_squared_error(y_valid[target], y_valid[predicted]) \n"
   ]
  },
  {
   "cell_type": "markdown",
   "id": "90a6e0ac",
   "metadata": {},
   "source": [
    "# # Analyse the results of the linear model"
   ]
  },
  {
   "cell_type": "code",
   "execution_count": 38,
   "id": "89eb1c4a",
   "metadata": {},
   "outputs": [
    {
     "data": {
      "image/png": "[encoded data removed]",
      "text/plain": [
       "<Figure size 640x480 with 1 Axes>"
      ]
     },
     "metadata": {},
     "output_type": "display_data"
    }
   ],
   "source": [
    "fig = plt.figure()\n",
    "ax = fig.add_subplot()\n",
    "\n",
    "# Fit the linear model using the input and output values from the training dataset\n",
    "lin_reg1=LinearRegression().fit(train_data[Input],train_data[target])\n",
    "\n",
    "\n",
    "ax.scatter(valid_data[Input], valid_data[target], color='red')\n",
    "\n",
    "# predict the y values from the x values from the validation dataset and check the scatter plot\n",
    "ax.scatter(valid_data[Input],lin_reg1.predict(valid_data[Input]),color='blue')\n",
    "\n",
    "\n",
    "\n",
    "\n",
    "ax.set_xlabel('X')\n",
    "ax.set_ylabel('y')\n",
    "ax.set_title(\"Linear Regression Test\")\n",
    "plt.tight_layout()\n",
    "plt.show()"
   ]
  },
  {
   "cell_type": "code",
   "execution_count": 39,
   "id": "ed2d9695",
   "metadata": {},
   "outputs": [
    {
     "name": "stdout",
     "output_type": "stream",
     "text": [
      "-0.040555342515058435\n"
     ]
    }
   ],
   "source": [
    "## Calculate the root mean square error of this model\n",
    "r2 = lin_reg1.score(valid_data[Input], valid_data[target])\n",
    "print(r2)"
   ]
  },
  {
   "cell_type": "markdown",
   "id": "78d894e4",
   "metadata": {},
   "source": [
    "### We can see from the mean sqaure error and the scatter plot  that the linear model is not a good fit for this data set"
   ]
  },
  {
   "cell_type": "markdown",
   "id": "2252c1ed",
   "metadata": {},
   "source": [
    "# # Step-6 Using a polynomial model instead of a linear model"
   ]
  },
  {
   "cell_type": "code",
   "execution_count": 21,
   "id": "140a45c0",
   "metadata": {},
   "outputs": [],
   "source": [
    "Input = ['X']\n",
    "target = ['y']\n",
    "predicted = ['PREDICTED']\n",
    "\n",
    "## Split the dataset into test and training data\n",
    "train_data= df.sample(frac=0.7, random_state=1)\n",
    "valid_data = df.drop(train_data.index)\n",
    "\n",
    "# First normalize the dataset\n",
    "scaler = StandardScaler()\n",
    "train_data = pd.DataFrame(scaler.fit_transform(train_data),\n",
    "                       index=train_data.index, columns=train_data.columns)\n",
    "valid_data = pd.DataFrame(scaler.transform(valid_data),\n",
    "                       index=valid_data.index, columns=valid_data.columns)\n",
    "\n",
    "X_train = train_data[Input]\n",
    "y_train = train_data[target]\n",
    "\n",
    "\n",
    "X_valid = valid_data[Input]\n",
    "y_valid = valid_data[target]\n",
    "\n",
    "\n",
    "# Train the polynomial model on the training data \n",
    "\n",
    "X_poly_train=PolynomialFeatures(degree=2).fit_transform(X_train)\n",
    "X_poly_validate = PolynomialFeatures(degree=2).fit_transform(X_valid)\n",
    "model=LinearRegression().fit(X_poly_train,y_train)"
   ]
  },
  {
   "cell_type": "code",
   "execution_count": 22,
   "id": "cf6b5724",
   "metadata": {},
   "outputs": [],
   "source": [
    "## Predict the values of the validation dataset\n",
    "\n",
    "y_valid[predicted] = model.predict(X_poly_validate)"
   ]
  },
  {
   "cell_type": "code",
   "execution_count": 23,
   "id": "9401ae04",
   "metadata": {},
   "outputs": [
    {
     "data": {
      "text/html": [
       "<div>\n",
       "<style scoped>\n",
       "    .dataframe tbody tr th:only-of-type {\n",
       "        vertical-align: middle;\n",
       "    }\n",
       "\n",
       "    .dataframe tbody tr th {\n",
       "        vertical-align: top;\n",
       "    }\n",
       "\n",
       "    .dataframe thead th {\n",
       "        text-align: right;\n",
       "    }\n",
       "</style>\n",
       "<table border=\"1\" class=\"dataframe\">\n",
       "  <thead>\n",
       "    <tr style=\"text-align: right;\">\n",
       "      <th></th>\n",
       "      <th>y</th>\n",
       "      <th>PREDICTED</th>\n",
       "    </tr>\n",
       "  </thead>\n",
       "  <tbody>\n",
       "    <tr>\n",
       "      <th>7</th>\n",
       "      <td>-0.913516</td>\n",
       "      <td>-0.556831</td>\n",
       "    </tr>\n",
       "    <tr>\n",
       "      <th>10</th>\n",
       "      <td>0.877842</td>\n",
       "      <td>0.256359</td>\n",
       "    </tr>\n",
       "    <tr>\n",
       "      <th>15</th>\n",
       "      <td>-1.300382</td>\n",
       "      <td>-0.598744</td>\n",
       "    </tr>\n",
       "    <tr>\n",
       "      <th>20</th>\n",
       "      <td>0.569270</td>\n",
       "      <td>0.659739</td>\n",
       "    </tr>\n",
       "    <tr>\n",
       "      <th>21</th>\n",
       "      <td>0.068527</td>\n",
       "      <td>-0.326794</td>\n",
       "    </tr>\n",
       "  </tbody>\n",
       "</table>\n",
       "</div>"
      ],
      "text/plain": [
       "           y  PREDICTED\n",
       "7  -0.913516  -0.556831\n",
       "10  0.877842   0.256359\n",
       "15 -1.300382  -0.598744\n",
       "20  0.569270   0.659739\n",
       "21  0.068527  -0.326794"
      ]
     },
     "execution_count": 23,
     "metadata": {},
     "output_type": "execute_result"
    }
   ],
   "source": [
    "y_valid.head()"
   ]
  },
  {
   "cell_type": "code",
   "execution_count": 24,
   "id": "4a162b96",
   "metadata": {},
   "outputs": [
    {
     "data": {
      "text/plain": [
       "0.20127827961611908"
      ]
     },
     "execution_count": 24,
     "metadata": {},
     "output_type": "execute_result"
    }
   ],
   "source": [
    "## find the mean square error of the polynomial model\n",
    "\n",
    "mean_squared_error(y_valid[target], y_valid[predicted]) "
   ]
  },
  {
   "cell_type": "markdown",
   "id": "932cb3db",
   "metadata": {},
   "source": [
    "# # Analyze the results of the polynomial model"
   ]
  },
  {
   "cell_type": "code",
   "execution_count": 28,
   "id": "7f95c578",
   "metadata": {},
   "outputs": [
    {
     "data": {
      "image/png": "[encoded data removed]",
      "text/plain": [
       "<Figure size 640x480 with 1 Axes>"
      ]
     },
     "metadata": {},
     "output_type": "display_data"
    }
   ],
   "source": [
    "fig = plt.figure()\n",
    "ax = fig.add_subplot()\n",
    "\n",
    "## fit the polynomial model using the training dataset\n",
    "lin_reg2=LinearRegression().fit(X_poly_train,train_data[target])\n",
    "\n",
    "ax.scatter(valid_data[Input], valid_data[target], color='red')\n",
    "\n",
    "# Use the validation input values to predict the output values from the fitted polynomial model and plot a scatter plot \n",
    "ax.scatter(valid_data[Input],lin_reg1.predict(X_poly_validate),color='blue')\n",
    "\n",
    "\n",
    "\n",
    "\n",
    "ax.set_xlabel('X')\n",
    "ax.set_ylabel('y')\n",
    "ax.set_title(\"Polynomial Regression Test\")\n",
    "plt.tight_layout()\n",
    "plt.show()"
   ]
  },
  {
   "cell_type": "code",
   "execution_count": 29,
   "id": "74294d1b",
   "metadata": {},
   "outputs": [
    {
     "data": {
      "text/plain": [
       "0.7803820498209244"
      ]
     },
     "execution_count": 29,
     "metadata": {},
     "output_type": "execute_result"
    }
   ],
   "source": [
    "## Calculate the r squared value of this model \n",
    "lin_reg2.score(X_poly_validate, valid_data[target])"
   ]
  },
  {
   "cell_type": "markdown",
   "id": "d55a360e",
   "metadata": {},
   "source": [
    "# # The mean square error of the polynomial model is much less than the linear model. The R square value of the polynomial model is much more than the linear model. By using the train-test split model we can be more certain about the accuracy of the model as we have trained and tested the model using two different datasets. In the previous method we were not splitting the given dataset, we were just trying to fit various models in the given dataset and get the difference between the target and predicted values.  \n",
    " "
   ]
  },
  {
   "cell_type": "code",
   "execution_count": null,
   "id": "10e65ce2",
   "metadata": {},
   "outputs": [],
   "source": []
  }
 ],
 "metadata": {
  "kernelspec": {
   "display_name": "Python 3 (ipykernel)",
   "language": "python",
   "name": "python3"
  },
  "language_info": {
   "codemirror_mode": {
    "name": "ipython",
    "version": 3
   },
   "file_extension": ".py",
   "mimetype": "text/x-python",
   "name": "python",
   "nbconvert_exporter": "python",
   "pygments_lexer": "ipython3",
   "version": "3.9.13"
  }
 },
 "nbformat": 4,
 "nbformat_minor": 5
}
