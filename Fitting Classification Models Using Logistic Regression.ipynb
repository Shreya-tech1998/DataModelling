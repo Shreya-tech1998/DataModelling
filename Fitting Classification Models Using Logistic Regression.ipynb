{
 "cells": [
  {
   "cell_type": "markdown",
   "id": "66d01c8a-f0cd-42af-aff9-8ba0bbd3c47e",
   "metadata": {
    "slideshow": {
     "slide_type": "slide"
    },
    "tags": []
   },
   "source": [
    "# Predictive Modeling Example\n",
    "\n",
    "**Week04, Logistic Example Model Fitting**\n",
    "\n",
    "ISM6136\n",
    "\n",
    "&copy; 2023 Dr. Tim Smith\n",
    "\n",
    "---\n"
   ]
  },
  {
   "cell_type": "markdown",
   "id": "049ea964-ba9d-46aa-af88-d13550f27638",
   "metadata": {
    "slideshow": {
     "slide_type": "slide"
    },
    "tags": []
   },
   "source": [
    "## Step 1: Import the libraries we will use in this notebook"
   ]
  },
  {
   "cell_type": "code",
   "execution_count": 2,
   "id": "cca96620-674f-43be-9633-3546127c263b",
   "metadata": {
    "slideshow": {
     "slide_type": "fragment"
    },
    "tags": []
   },
   "outputs": [],
   "source": [
    "# import neccessary libraries\n",
    "import pandas as pd\n",
    "import numpy as np\n",
    "from random import randint\n",
    "import matplotlib.pyplot as plt\n",
    "from sklearn.model_selection import train_test_split\n",
    "from sklearn.preprocessing import StandardScaler, MinMaxScaler\n",
    "# set the random seed\n",
    "np.random.seed(1) # set this to ensure the results are repeatable. \n",
    "from sklearn.linear_model import LogisticRegression\n",
    "from sklearn.metrics import accuracy_score, precision_score, recall_score, f1_score, confusion_matrix, ConfusionMatrixDisplay\n",
    "from sklearn.preprocessing import OneHotEncoder\n",
    "from sklearn.impute import SimpleImputer"
   ]
  },
  {
   "cell_type": "code",
   "execution_count": 3,
   "id": "2e012b6a",
   "metadata": {},
   "outputs": [],
   "source": [
    "#%matplotlib widget\n"
   ]
  },
  {
   "cell_type": "markdown",
   "id": "31b63237-2a6b-40be-a7c9-9fd854b52339",
   "metadata": {},
   "source": [
    "## Step 2: Load the given data that we will model"
   ]
  },
  {
   "cell_type": "code",
   "execution_count": 4,
   "id": "7815e222-9aae-4b39-999e-689dcea5aeb8",
   "metadata": {},
   "outputs": [
    {
     "data": {
      "text/html": [
       "<div>\n",
       "<style scoped>\n",
       "    .dataframe tbody tr th:only-of-type {\n",
       "        vertical-align: middle;\n",
       "    }\n",
       "\n",
       "    .dataframe tbody tr th {\n",
       "        vertical-align: top;\n",
       "    }\n",
       "\n",
       "    .dataframe thead th {\n",
       "        text-align: right;\n",
       "    }\n",
       "</style>\n",
       "<table border=\"1\" class=\"dataframe\">\n",
       "  <thead>\n",
       "    <tr style=\"text-align: right;\">\n",
       "      <th></th>\n",
       "      <th>Income</th>\n",
       "      <th>Lot_Size</th>\n",
       "      <th>Ownership</th>\n",
       "    </tr>\n",
       "  </thead>\n",
       "  <tbody>\n",
       "    <tr>\n",
       "      <th>0</th>\n",
       "      <td>60.0</td>\n",
       "      <td>18.4</td>\n",
       "      <td>Owner</td>\n",
       "    </tr>\n",
       "    <tr>\n",
       "      <th>1</th>\n",
       "      <td>85.5</td>\n",
       "      <td>16.8</td>\n",
       "      <td>Owner</td>\n",
       "    </tr>\n",
       "    <tr>\n",
       "      <th>2</th>\n",
       "      <td>64.8</td>\n",
       "      <td>21.6</td>\n",
       "      <td>Owner</td>\n",
       "    </tr>\n",
       "  </tbody>\n",
       "</table>\n",
       "</div>"
      ],
      "text/plain": [
       "   Income  Lot_Size Ownership\n",
       "0    60.0      18.4     Owner\n",
       "1    85.5      16.8     Owner\n",
       "2    64.8      21.6     Owner"
      ]
     },
     "execution_count": 4,
     "metadata": {},
     "output_type": "execute_result"
    }
   ],
   "source": [
    "#df = pd.read_csv('https://raw.githubusercontent.com/prof-tcsmith/data/master/RidingMowers.csv')\n",
    "df = pd.read_csv('./riding_mowers.csv')\n",
    "\n",
    "df.head(3)"
   ]
  },
  {
   "cell_type": "markdown",
   "id": "2251b80d-af86-4eb1-87b3-4852081028c3",
   "metadata": {},
   "source": [
    "## Step 3: Prepare the Data\n"
   ]
  },
  {
   "cell_type": "code",
   "execution_count": 5,
   "id": "0abeee79",
   "metadata": {},
   "outputs": [
    {
     "data": {
      "text/plain": [
       "(24, 3)"
      ]
     },
     "execution_count": 5,
     "metadata": {},
     "output_type": "execute_result"
    }
   ],
   "source": [
    "# determine the number of rows and columns\n",
    "df.shape"
   ]
  },
  {
   "cell_type": "code",
   "execution_count": 6,
   "id": "27c42883",
   "metadata": {},
   "outputs": [
    {
     "data": {
      "text/plain": [
       "Income       0\n",
       "Lot_Size     0\n",
       "Ownership    0\n",
       "dtype: int64"
      ]
     },
     "execution_count": 6,
     "metadata": {},
     "output_type": "execute_result"
    }
   ],
   "source": [
    "# check to see if there is any missing values, and if so, then fix this issue.\n",
    "df.isna().sum()\n",
    "\n",
    "# There does not seem to be any missing value in this dataset"
   ]
  },
  {
   "cell_type": "code",
   "execution_count": 7,
   "id": "20f3ba8c",
   "metadata": {},
   "outputs": [
    {
     "data": {
      "text/plain": [
       "array(['Owner', 'Nonowner'], dtype=object)"
      ]
     },
     "execution_count": 7,
     "metadata": {},
     "output_type": "execute_result"
    }
   ],
   "source": [
    "# check to see if there are any topos, and if so, then fix this issue.\n",
    "df['Income'].unique()\n",
    "df['Ownership'].unique()\n",
    "df['Ownership'] = df['Ownership'].replace(['owners'], 'Owner') \n",
    "df['Ownership'] = df['Ownership'].replace(['nonowner'], 'Nonowner') \n",
    "df['Income'].unique()\n",
    "df['Ownership'].unique()\n",
    "\n",
    "# Change the owners to Owners and nonowners to Nonowner"
   ]
  },
  {
   "cell_type": "code",
   "execution_count": 8,
   "id": "0d76e080",
   "metadata": {},
   "outputs": [
    {
     "data": {
      "text/plain": [
       "Text(0, 0.5, 'Lot Size (000s sqft)')"
      ]
     },
     "execution_count": 8,
     "metadata": {},
     "output_type": "execute_result"
    },
    {
     "data": {
      "image/png": "[encoded data removed]",
      "text/plain": [
       "<Figure size 640x480 with 1 Axes>"
      ]
     },
     "metadata": {},
     "output_type": "display_data"
    }
   ],
   "source": [
    "# visualize the data\n",
    " \n",
    "fig = plt.figure()\n",
    "ax = fig.add_subplot()\n",
    "ax.scatter(df.loc[df.Ownership=='Owner']['Income'], \n",
    "           df.loc[df.Ownership=='Owner']['Lot_Size'], \n",
    "           marker='o', \n",
    "           color='red')\n",
    "ax.scatter(df.loc[df.Ownership=='Nonowner']['Income'], \n",
    "           df.loc[df.Ownership=='Nonowner']['Lot_Size'], \n",
    "           marker='o', \n",
    "           color='blue')\n",
    "\n",
    "ax.legend([\"Owner\", \"Nonowner\"], framealpha=0.5)\n",
    "                                         \n",
    "ax.set_xlim(20, 120)\n",
    "ax.set_ylim(13, 25)\n",
    "ax.set_xlabel('Income ($000s)')\n",
    "ax.set_ylabel('Lot Size (000s sqft)')"
   ]
  },
  {
   "cell_type": "markdown",
   "id": "6545c4b0-4a61-4343-b7cf-db7f746b5d3c",
   "metadata": {},
   "source": [
    "## Step 4: Create a Classifier\n",
    "\n",
    "Since the number of observations is low, you will alocate all of the data to training. Normally, you would split the data into training and testing sets."
   ]
  },
  {
   "cell_type": "code",
   "execution_count": 25,
   "id": "e7da912c",
   "metadata": {
    "scrolled": false
   },
   "outputs": [
    {
     "name": "stdout",
     "output_type": "stream",
     "text": [
      "      Income  Lot_Size Ownership\n",
      "0  -0.435452 -0.231370     Owner\n",
      "1   0.880582 -0.904445     Owner\n",
      "2  -0.187728  1.114781     Owner\n",
      "3  -0.358039  0.778243     Owner\n",
      "4   0.957995  1.956125     Owner\n",
      "5   2.150167  0.105168     Owner\n",
      "6   2.041788 -0.567907     Owner\n",
      "7   0.741237  1.451319     Owner\n",
      "8   0.029030  0.441706     Owner\n",
      "9   1.267650  0.778243     Owner\n",
      "10 -0.899935  1.283050     Owner\n",
      "11  0.648340  0.441706     Owner\n",
      "12  0.338685  0.273437  Nonowner\n",
      "13 -0.807038  0.778243  Nonowner\n",
      "14 -0.187728 -0.736176  Nonowner\n",
      "15 -1.302487  0.609975  Nonowner\n",
      "16  0.803168 -0.567907  Nonowner\n",
      "17 -0.992832 -0.567907  Nonowner\n",
      "18 -0.466418 -1.240983  Nonowner\n",
      "19 -0.125797 -0.231370  Nonowner\n",
      "20 -1.085728 -1.072714  Nonowner\n",
      "21 -1.828900 -0.063101  Nonowner\n",
      "22 -0.899935 -2.082327  Nonowner\n",
      "23 -0.280625 -1.745789  Nonowner\n"
     ]
    }
   ],
   "source": [
    "# standardize the input data\n",
    "scaler = StandardScaler()\n",
    "\n",
    "# First need to remove the ownership column\n",
    "\n",
    "dropped_columns = df.columns.drop('Ownership') ## This command gets the column names that are remaining from the data set\n",
    "\n",
    "\n",
    "## Now we can use the variable 'dropped_columns' to filter the columns Income and Lot size from the data set\n",
    "train_data_scaled = df[dropped_columns]\n",
    "\n",
    "\n",
    "\n",
    "## This function scaler.fit() will normalize the input variables\n",
    "train_data_scaled = pd.DataFrame(scaler.fit_transform(train_data_scaled),\n",
    "                               index = train_data_scaled.index, columns = train_data_scaled.columns)\n",
    "\n",
    "## Now we need to add the owner column back into the data frame\n",
    "train_data_scaled['Ownership'] = df['Ownership']\n",
    "\n",
    "\n",
    "print(train_data_scaled)\n",
    "\n",
    "\n",
    "\n"
   ]
  },
  {
   "cell_type": "code",
   "execution_count": 28,
   "id": "f037eb4f",
   "metadata": {},
   "outputs": [
    {
     "name": "stdout",
     "output_type": "stream",
     "text": [
      "      Income  Lot_Size  Ownership_Owner\n",
      "0  -0.435452 -0.231370                1\n",
      "1   0.880582 -0.904445                1\n",
      "2  -0.187728  1.114781                1\n",
      "3  -0.358039  0.778243                1\n",
      "4   0.957995  1.956125                1\n",
      "5   2.150167  0.105168                1\n",
      "6   2.041788 -0.567907                1\n",
      "7   0.741237  1.451319                1\n",
      "8   0.029030  0.441706                1\n",
      "9   1.267650  0.778243                1\n",
      "10 -0.899935  1.283050                1\n",
      "11  0.648340  0.441706                1\n",
      "12  0.338685  0.273437                0\n",
      "13 -0.807038  0.778243                0\n",
      "14 -0.187728 -0.736176                0\n",
      "15 -1.302487  0.609975                0\n",
      "16  0.803168 -0.567907                0\n",
      "17 -0.992832 -0.567907                0\n",
      "18 -0.466418 -1.240983                0\n",
      "19 -0.125797 -0.231370                0\n",
      "20 -1.085728 -1.072714                0\n",
      "21 -1.828900 -0.063101                0\n",
      "22 -0.899935 -2.082327                0\n",
      "23 -0.280625 -1.745789                0\n"
     ]
    }
   ],
   "source": [
    "train_data_scaled1 = pd.get_dummies(\n",
    "    train_data_scaled, \n",
    "    prefix_sep='_', \n",
    "    dummy_na=False, \n",
    "    drop_first=True,    \n",
    "    columns=['Ownership'], \n",
    "    dtype='int32'\n",
    ")\n",
    "\n",
    "print(train_data_scaled1)\n"
   ]
  },
  {
   "cell_type": "code",
   "execution_count": 29,
   "id": "e411041d",
   "metadata": {},
   "outputs": [
    {
     "data": {
      "text/plain": [
       "LogisticRegression(max_iter=1000, n_jobs=-1)"
      ]
     },
     "execution_count": 29,
     "metadata": {},
     "output_type": "execute_result"
    }
   ],
   "source": [
    "# Use LogisticRegression from sklearn.linear_model to create a predictive model. \n",
    "features = train_data_scaled1.drop(columns=['Ownership_Owner'])\n",
    "target = train_data_scaled1['Ownership_Owner']\n",
    "\n",
    "model = LogisticRegression(\n",
    "    max_iter=1000,  # increase the number of iterations\n",
    "    n_jobs=-1       # use all processors\n",
    ")\n",
    "model.fit(features, target)\n",
    "\n"
   ]
  },
  {
   "cell_type": "markdown",
   "id": "b45e77cb-607a-4ef4-87ae-8fde787ed7ad",
   "metadata": {},
   "source": [
    "## Step 5: Analyze the linear regression model's performance"
   ]
  },
  {
   "cell_type": "code",
   "execution_count": 30,
   "id": "ce57d2bf-91cd-4a8b-9383-621f0b0d1f68",
   "metadata": {},
   "outputs": [
    {
     "name": "stdout",
     "output_type": "stream",
     "text": [
      "0.8333333333333334\n",
      "0.8333333333333334\n",
      "0.8333333333333334\n",
      "0.8333333333333334\n"
     ]
    }
   ],
   "source": [
    "\n",
    "# Record the models performance using the following metrics:\n",
    "\n",
    "results = pd.DataFrame()\n",
    "results['actual'] = target\n",
    "results['predicted'] = model.predict(features)\n",
    "\n",
    "\n",
    "\n",
    "# - Accuracy\n",
    "print(accuracy_score(results['actual'], results['predicted']))\n",
    "\n",
    "# - Precision\n",
    "print(precision_score(results['actual'], results['predicted']))\n",
    "\n",
    "\n",
    "# - Recall\n",
    "print(recall_score(results['actual'], results['predicted']))\n",
    "\n",
    "# - F1 Score\n",
    "print(f1_score(results['actual'], results['predicted']))\n"
   ]
  },
  {
   "cell_type": "code",
   "execution_count": 32,
   "id": "ed338ccd",
   "metadata": {},
   "outputs": [
    {
     "data": {
      "image/png": "[encoded data removed]",
      "text/plain": [
       "<Figure size 800x600 with 1 Axes>"
      ]
     },
     "metadata": {},
     "output_type": "display_data"
    }
   ],
   "source": [
    "# display the confusion matrix\n",
    "cm = confusion_matrix(results['actual'], results['predicted'])\n",
    "#disp = ConfusionMatrixDisplay(confusion_matrix=cm, display_labels=le.classes_, colorbar=False)\n",
    "fig, ax = plt.subplots(figsize=(8, 6))\n",
    "\n",
    "ConfusionMatrixDisplay.from_predictions(\n",
    "    results['actual'], results['predicted'], display_labels=model.classes_, ax=ax, colorbar=False, cmap=plt.cm.Blues\n",
    ")\n",
    "plt.show()"
   ]
  },
  {
   "cell_type": "markdown",
   "id": "4ce7fa25",
   "metadata": {},
   "source": [
    "## Step 6: Discuss the Results"
   ]
  },
  {
   "cell_type": "markdown",
   "id": "84532b5e",
   "metadata": {},
   "source": [
    " 1. Accuracy reffers to the the number of true positives or true negatives that we got from the dataset with the logistic regression model. In this model we are giving the Income and Lot_size as inputs to the model and, the model is expected to predict if the person is an Owner or a non owner. After checking the number of times the model predicted the type of ownership correctly we got an accuracy of 0.83\n",
    " \n",
    " 2. Precision refers to the number of accurate predictions to the number of positive predictions made.The precision of the model, correctly predicting owners is around 83 percent.\n",
    " 3. Recall refers to the ability of the classification model to identity all relevant instances, the precision for this model is around 83 percent.\n",
    "\n",
    " \n",
    " \n",
    " "
   ]
  },
  {
   "cell_type": "markdown",
   "id": "8ab5892e",
   "metadata": {},
   "source": [
    "...insert a discussion of the results from your model"
   ]
  }
 ],
 "metadata": {
  "kernelspec": {
   "display_name": "Python 3 (ipykernel)",
   "language": "python",
   "name": "python3"
  },
  "language_info": {
   "codemirror_mode": {
    "name": "ipython",
    "version": 3
   },
   "file_extension": ".py",
   "mimetype": "text/x-python",
   "name": "python",
   "nbconvert_exporter": "python",
   "pygments_lexer": "ipython3",
   "version": "3.9.13"
  }
 },
 "nbformat": 4,
 "nbformat_minor": 5
}
