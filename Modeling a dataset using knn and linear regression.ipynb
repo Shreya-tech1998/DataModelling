{
 "cells": [
  {
   "cell_type": "code",
   "execution_count": 27,
   "id": "6ad55076",
   "metadata": {},
   "outputs": [],
   "source": [
    "# importing the required packages \n",
    "\n",
    "from pathlib import Path\n",
    "import pandas as pd\n",
    "import numpy as np\n",
    "import matplotlib.pylab as plt\n",
    "from sklearn.neighbors import KNeighborsRegressor\n",
    "from sklearn.metrics import confusion_matrix\n",
    "from sklearn.model_selection import train_test_split\n",
    "from sklearn import preprocessing \n",
    "from sklearn.metrics import mean_squared_error\n",
    "from sklearn.preprocessing import MinMaxScaler\n",
    "from sklearn.linear_model import LinearRegression\n",
    "np.random.seed(42)"
   ]
  },
  {
   "cell_type": "markdown",
   "id": "94193a08",
   "metadata": {},
   "source": [
    "\n",
    "## Loading and cleaning the data "
   ]
  },
  {
   "cell_type": "code",
   "execution_count": 12,
   "id": "a40c21aa",
   "metadata": {},
   "outputs": [
    {
     "data": {
      "text/html": [
       "<div>\n",
       "<style scoped>\n",
       "    .dataframe tbody tr th:only-of-type {\n",
       "        vertical-align: middle;\n",
       "    }\n",
       "\n",
       "    .dataframe tbody tr th {\n",
       "        vertical-align: top;\n",
       "    }\n",
       "\n",
       "    .dataframe thead th {\n",
       "        text-align: right;\n",
       "    }\n",
       "</style>\n",
       "<table border=\"1\" class=\"dataframe\">\n",
       "  <thead>\n",
       "    <tr style=\"text-align: right;\">\n",
       "      <th></th>\n",
       "      <th>x</th>\n",
       "      <th>y</th>\n",
       "    </tr>\n",
       "  </thead>\n",
       "  <tbody>\n",
       "    <tr>\n",
       "      <th>0</th>\n",
       "      <td>55.3846</td>\n",
       "      <td>97.1795</td>\n",
       "    </tr>\n",
       "    <tr>\n",
       "      <th>1</th>\n",
       "      <td>51.5385</td>\n",
       "      <td>96.0256</td>\n",
       "    </tr>\n",
       "    <tr>\n",
       "      <th>2</th>\n",
       "      <td>46.1538</td>\n",
       "      <td>94.4872</td>\n",
       "    </tr>\n",
       "    <tr>\n",
       "      <th>3</th>\n",
       "      <td>42.8205</td>\n",
       "      <td>91.4103</td>\n",
       "    </tr>\n",
       "    <tr>\n",
       "      <th>4</th>\n",
       "      <td>40.7692</td>\n",
       "      <td>88.3333</td>\n",
       "    </tr>\n",
       "    <tr>\n",
       "      <th>...</th>\n",
       "      <td>...</td>\n",
       "      <td>...</td>\n",
       "    </tr>\n",
       "    <tr>\n",
       "      <th>137</th>\n",
       "      <td>39.4872</td>\n",
       "      <td>25.3846</td>\n",
       "    </tr>\n",
       "    <tr>\n",
       "      <th>138</th>\n",
       "      <td>91.2821</td>\n",
       "      <td>41.5385</td>\n",
       "    </tr>\n",
       "    <tr>\n",
       "      <th>139</th>\n",
       "      <td>50.0000</td>\n",
       "      <td>95.7692</td>\n",
       "    </tr>\n",
       "    <tr>\n",
       "      <th>140</th>\n",
       "      <td>47.9487</td>\n",
       "      <td>95.0000</td>\n",
       "    </tr>\n",
       "    <tr>\n",
       "      <th>141</th>\n",
       "      <td>44.1026</td>\n",
       "      <td>92.6923</td>\n",
       "    </tr>\n",
       "  </tbody>\n",
       "</table>\n",
       "<p>142 rows × 2 columns</p>\n",
       "</div>"
      ],
      "text/plain": [
       "           x        y\n",
       "0    55.3846  97.1795\n",
       "1    51.5385  96.0256\n",
       "2    46.1538  94.4872\n",
       "3    42.8205  91.4103\n",
       "4    40.7692  88.3333\n",
       "..       ...      ...\n",
       "137  39.4872  25.3846\n",
       "138  91.2821  41.5385\n",
       "139  50.0000  95.7692\n",
       "140  47.9487  95.0000\n",
       "141  44.1026  92.6923\n",
       "\n",
       "[142 rows x 2 columns]"
      ]
     },
     "execution_count": 12,
     "metadata": {},
     "output_type": "execute_result"
    }
   ],
   "source": [
    "# Loaded the data into a pandas data frame called SampleData\n",
    "SampleData = pd.read_csv('./sample.csv')\n",
    "SampleData"
   ]
  },
  {
   "cell_type": "code",
   "execution_count": 13,
   "id": "f60ffa00",
   "metadata": {},
   "outputs": [
    {
     "data": {
      "text/plain": [
       "x    0\n",
       "y    0\n",
       "dtype: int64"
      ]
     },
     "execution_count": 13,
     "metadata": {},
     "output_type": "execute_result"
    }
   ],
   "source": [
    "# Checking for null values\n",
    "SampleData.isna().sum()\n",
    "# There are no null values in this data set "
   ]
  },
  {
   "cell_type": "code",
   "execution_count": 14,
   "id": "384f2f39",
   "metadata": {},
   "outputs": [
    {
     "data": {
      "text/plain": [
       "x    float64\n",
       "y    float64\n",
       "dtype: object"
      ]
     },
     "execution_count": 14,
     "metadata": {},
     "output_type": "execute_result"
    }
   ],
   "source": [
    "# check the variable types\n",
    "SampleData.dtypes\n"
   ]
  },
  {
   "cell_type": "markdown",
   "id": "586f69b3",
   "metadata": {},
   "source": [
    "## Split and normalize the data"
   ]
  },
  {
   "cell_type": "code",
   "execution_count": 16,
   "id": "7728a880",
   "metadata": {},
   "outputs": [],
   "source": [
    "'''\n",
    "In the first part I have normalised the data set \n",
    "'''\n",
    "scaler = MinMaxScaler()\n",
    "SampleData_Scaled = pd.DataFrame(scaler.fit_transform(SampleData),index = SampleData.index, columns = SampleData.columns)\n",
    "\n",
    "''' In the second part, I have split the data into training and test, using the train-test-split package. In this dataset we \n",
    "have only one feature x and one target y\n",
    "'''\n",
    "\n",
    "feature = SampleData_Scaled.drop(columns=['x'])\n",
    "target = SampleData_Scaled['y']\n",
    "\n",
    "# split the data into validation and training set\n",
    "x_train, x_test, y_train, y_test = train_test_split(feature, target, test_size=0.3, random_state=1)\n"
   ]
  },
  {
   "cell_type": "code",
   "execution_count": 24,
   "id": "71a238a4",
   "metadata": {},
   "outputs": [
    {
     "name": "stdout",
     "output_type": "stream",
     "text": [
      "            x         y\n",
      "0    0.067121  1.838544\n",
      "1   -0.163101  1.795553\n",
      "2   -0.485423  1.738236\n",
      "3   -0.684950  1.623599\n",
      "4   -0.807738  1.508959\n",
      "..        ...       ...\n",
      "137 -0.884477 -0.836338\n",
      "138  2.215899 -0.234488\n",
      "139 -0.255194  1.786000\n",
      "140 -0.377982  1.757342\n",
      "141 -0.608205  1.671363\n",
      "\n",
      "[142 rows x 2 columns]\n"
     ]
    }
   ],
   "source": [
    "print (SampleData_Scaled)\n"
   ]
  },
  {
   "cell_type": "markdown",
   "id": "959afc59",
   "metadata": {},
   "source": [
    "## Train a knn model"
   ]
  },
  {
   "cell_type": "code",
   "execution_count": 17,
   "id": "a573724d",
   "metadata": {},
   "outputs": [
    {
     "name": "stdout",
     "output_type": "stream",
     "text": [
      "142\n"
     ]
    }
   ],
   "source": [
    "# Get the number of observations in the dataset\n",
    "n = len(SampleData)\n",
    "print(n)"
   ]
  },
  {
   "cell_type": "code",
   "execution_count": 18,
   "id": "985fd052",
   "metadata": {},
   "outputs": [
    {
     "name": "stdout",
     "output_type": "stream",
     "text": [
      "Mean Squared Error: 0.00013087828495047293\n"
     ]
    }
   ],
   "source": [
    "# Since a good starting point for k is the square root of the number of observations k= 11 approximately \n",
    "\n",
    "knn_regressor = KNeighborsRegressor(n_neighbors=11)\n",
    "knn_regressor.fit(x_train, y_train)\n",
    "\n",
    "# Make a prediction on the test set\n",
    "y_pred = knn_regressor.predict(x_test)\n",
    "\n",
    "# Evaluate the model using the mean squared error\n",
    "mse = mean_squared_error(y_test, y_pred)\n",
    "print(f'Mean Squared Error: {mse}')"
   ]
  },
  {
   "cell_type": "markdown",
   "id": "b5f57b81",
   "metadata": {},
   "source": [
    "## Checking for other k values"
   ]
  },
  {
   "cell_type": "code",
   "execution_count": 26,
   "id": "20ec84e8",
   "metadata": {
    "scrolled": true
   },
   "outputs": [
    {
     "name": "stdout",
     "output_type": "stream",
     "text": [
      "For k = 1 Mean Square Error Is 5.171809782099886e-05\n",
      "For k = 2 Mean Square Error Is 4.7197290932926475e-05\n",
      "For k = 3 Mean Square Error Is 5.671896565853924e-05\n",
      "For k = 4 Mean Square Error Is 6.875774969357902e-05\n",
      "For k = 5 Mean Square Error Is 8.1099121522324e-05\n",
      "For k = 6 Mean Square Error Is 8.770449409766878e-05\n",
      "For k = 7 Mean Square Error Is 0.00011005565979025114\n",
      "For k = 8 Mean Square Error Is 0.00013119291286904544\n",
      "For k = 9 Mean Square Error Is 0.00012922473242744313\n",
      "For k = 10 Mean Square Error Is 0.00013546423915036289\n",
      "For k = 11 Mean Square Error Is 0.00013087828495047293\n",
      "For k = 12 Mean Square Error Is 0.00013909309562615694\n",
      "For k = 13 Mean Square Error Is 0.00015532364601533185\n",
      "For k = 14 Mean Square Error Is 0.00017655505394900816\n",
      "For k = 15 Mean Square Error Is 0.0001999754773556298\n",
      "For k = 16 Mean Square Error Is 0.00025632652098005215\n",
      "For k = 17 Mean Square Error Is 0.00029420497570869397\n",
      "For k = 18 Mean Square Error Is 0.0003082731888287335\n",
      "For k = 19 Mean Square Error Is 0.00034073256163813254\n",
      "For k = 20 Mean Square Error Is 0.0004093753022761477\n",
      "For k = 21 Mean Square Error Is 0.00044362190664322057\n",
      "For k = 22 Mean Square Error Is 0.00048306738488775746\n",
      "For k = 23 Mean Square Error Is 0.0005377864022728513\n",
      "For k = 24 Mean Square Error Is 0.0005950963655016828\n",
      "For k = 25 Mean Square Error Is 0.000677349826193908\n",
      "For k = 26 Mean Square Error Is 0.000773052369235492\n",
      "For k = 27 Mean Square Error Is 0.0008944781714927134\n",
      "For k = 28 Mean Square Error Is 0.0010365945721207285\n",
      "For k = 29 Mean Square Error Is 0.0011623228881141154\n",
      "For k = 30 Mean Square Error Is 0.0012852998794768869\n",
      "For k = 31 Mean Square Error Is 0.0014405963047169105\n",
      "For k = 32 Mean Square Error Is 0.0016136923390123728\n",
      "For k = 33 Mean Square Error Is 0.0018266489709753845\n",
      "For k = 34 Mean Square Error Is 0.0020177889563208\n",
      "For k = 35 Mean Square Error Is 0.0022291985209566623\n",
      "For k = 36 Mean Square Error Is 0.002457711506973137\n",
      "For k = 37 Mean Square Error Is 0.0027090091721451116\n",
      "For k = 38 Mean Square Error Is 0.002976526347827315\n",
      "For k = 39 Mean Square Error Is 0.0032516338772474356\n",
      "For k = 40 Mean Square Error Is 0.0035615195446337014\n",
      "For k = 41 Mean Square Error Is 0.0039005911707101913\n",
      "For k = 42 Mean Square Error Is 0.004249830434093871\n",
      "For k = 43 Mean Square Error Is 0.004611855099019552\n",
      "For k = 44 Mean Square Error Is 0.004992027017253816\n",
      "For k = 45 Mean Square Error Is 0.005415696115153335\n",
      "For k = 46 Mean Square Error Is 0.005829523348727923\n",
      "For k = 47 Mean Square Error Is 0.006272291251511697\n",
      "For k = 48 Mean Square Error Is 0.006778190087123225\n",
      "For k = 49 Mean Square Error Is 0.007337850365741135\n",
      "For k = 50 Mean Square Error Is 0.007891088714107942\n",
      "For k = 51 Mean Square Error Is 0.008443808165924107\n",
      "For k = 52 Mean Square Error Is 0.00899315363466798\n",
      "For k = 53 Mean Square Error Is 0.009602333907935839\n",
      "For k = 54 Mean Square Error Is 0.010233134397821432\n",
      "For k = 55 Mean Square Error Is 0.010862249789096926\n",
      "For k = 56 Mean Square Error Is 0.011522128517227271\n",
      "For k = 57 Mean Square Error Is 0.012213579880473328\n",
      "For k = 58 Mean Square Error Is 0.012877041398479958\n",
      "For k = 59 Mean Square Error Is 0.013608387754022684\n",
      "For k = 60 Mean Square Error Is 0.014344803331768546\n",
      "For k = 61 Mean Square Error Is 0.01513134732845445\n",
      "For k = 62 Mean Square Error Is 0.015901967311407982\n",
      "For k = 63 Mean Square Error Is 0.016708908481208196\n",
      "For k = 64 Mean Square Error Is 0.017569766826313116\n",
      "For k = 65 Mean Square Error Is 0.01843242697836309\n",
      "For k = 66 Mean Square Error Is 0.019301872233223716\n",
      "For k = 67 Mean Square Error Is 0.020170765637125675\n",
      "For k = 68 Mean Square Error Is 0.02113388030747128\n",
      "For k = 69 Mean Square Error Is 0.022124264643341485\n",
      "For k = 70 Mean Square Error Is 0.023091740358798893\n",
      "For k = 71 Mean Square Error Is 0.024057588963415633\n",
      "For k = 72 Mean Square Error Is 0.02508057177692031\n",
      "For k = 73 Mean Square Error Is 0.02619291899192899\n",
      "For k = 74 Mean Square Error Is 0.02720302210775378\n",
      "For k = 75 Mean Square Error Is 0.028294568334710224\n",
      "For k = 76 Mean Square Error Is 0.029389396522909592\n",
      "For k = 77 Mean Square Error Is 0.030570057245813926\n",
      "For k = 78 Mean Square Error Is 0.03172414749071721\n",
      "For k = 79 Mean Square Error Is 0.032861292385462516\n",
      "For k = 80 Mean Square Error Is 0.03417022102118855\n",
      "For k = 81 Mean Square Error Is 0.03549853631569584\n",
      "For k = 82 Mean Square Error Is 0.036833277280366374\n",
      "For k = 83 Mean Square Error Is 0.03818458688392758\n",
      "For k = 84 Mean Square Error Is 0.03954888424886131\n",
      "For k = 85 Mean Square Error Is 0.04103380929507365\n",
      "For k = 86 Mean Square Error Is 0.0424201442875924\n",
      "For k = 87 Mean Square Error Is 0.043905608625247505\n",
      "For k = 88 Mean Square Error Is 0.04543609580557701\n",
      "For k = 89 Mean Square Error Is 0.04699620624435152\n",
      "For k = 90 Mean Square Error Is 0.04858135758594391\n",
      "For k = 91 Mean Square Error Is 0.05020778652357515\n",
      "For k = 92 Mean Square Error Is 0.05185846921017086\n",
      "For k = 93 Mean Square Error Is 0.05356851565764778\n",
      "For k = 94 Mean Square Error Is 0.055298426955667584\n",
      "For k = 95 Mean Square Error Is 0.0570539034779997\n",
      "For k = 96 Mean Square Error Is 0.058820342152613524\n",
      "For k = 97 Mean Square Error Is 0.06070081049440505\n",
      "For k = 98 Mean Square Error Is 0.06261358672438305\n",
      "For k = 99 Mean Square Error Is 0.06461039513184373\n",
      "4.7197290932926475e-05\n"
     ]
    }
   ],
   "source": [
    "# Initialize an empty results list\n",
    "results = []\n",
    "for k in range(1,100):\n",
    "    \n",
    "    knn_regressor = KNeighborsRegressor(n_neighbors=k)\n",
    "    knn_regressor.fit(x_train, y_train)\n",
    "    \n",
    "    # Make a prediction on the test set\n",
    "    y_pred = knn_regressor.predict(x_test)\n",
    "    \n",
    "    # Evaluate the model using the mean squared error\n",
    "    mse = mean_squared_error(y_test, y_pred)\n",
    "    \n",
    "    results.append(mse)\n",
    "    \n",
    " # Display the output\n",
    "\n",
    "for indx in range(0,99):\n",
    "    \n",
    "    print( \"For k = \" + str(indx+1) + \" Mean Square Error Is \" + str(results[indx]))\n",
    "    \n",
    "    \n",
    "print(min(results))    \n",
    "\n",
    "# From the results it can be seen that for k=2 the rmse is 4.7197290932926475e-05 which is minimum \n",
    "    "
   ]
  },
  {
   "cell_type": "markdown",
   "id": "62826464",
   "metadata": {},
   "source": [
    "## Fitting a Linear Model"
   ]
  },
  {
   "cell_type": "code",
   "execution_count": 28,
   "id": "3e93218d",
   "metadata": {},
   "outputs": [
    {
     "data": {
      "text/plain": [
       "LinearRegression()"
      ]
     },
     "execution_count": 28,
     "metadata": {},
     "output_type": "execute_result"
    }
   ],
   "source": [
    "# Fitting the x train and the y train data on the linear Model\n",
    "model = LinearRegression()\n",
    "model.fit(x_train, y_train)\n",
    "\n"
   ]
  },
  {
   "cell_type": "code",
   "execution_count": 61,
   "id": "d457ca6b",
   "metadata": {},
   "outputs": [
    {
     "data": {
      "text/plain": [
       "3.1128402589514626e-32"
      ]
     },
     "execution_count": 61,
     "metadata": {},
     "output_type": "execute_result"
    }
   ],
   "source": [
    "# Using the linear model to predict the target values\n",
    "\n",
    "\n",
    "results_dataframe = y_test.to_frame()\n",
    "\n",
    "# Store the values of the predicted x_test values (With the help of the Linear model) in the predicted column of the \n",
    "#results_dataframe\n",
    "\n",
    "results_dataframe['predicted'] = model.predict(x_test)\n",
    "\n",
    "mean_squared_error(results_dataframe['y'], results_dataframe['predicted']) \n",
    "#results_dataframe"
   ]
  },
  {
   "cell_type": "markdown",
   "id": "e053edd5",
   "metadata": {},
   "source": [
    "From the results of the root mean square error we can see that the rms value for the Linear Model is way less than knn, which suggests that we should should use linear modeling for this dataset.\n"
   ]
  }
 ],
 "metadata": {
  "kernelspec": {
   "display_name": "Python 3 (ipykernel)",
   "language": "python",
   "name": "python3"
  },
  "language_info": {
   "codemirror_mode": {
    "name": "ipython",
    "version": 3
   },
   "file_extension": ".py",
   "mimetype": "text/x-python",
   "name": "python",
   "nbconvert_exporter": "python",
   "pygments_lexer": "ipython3",
   "version": "3.9.13"
  }
 },
 "nbformat": 4,
 "nbformat_minor": 5
}
